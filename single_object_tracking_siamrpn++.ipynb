{
  "nbformat": 4,
  "nbformat_minor": 0,
  "metadata": {
    "colab": {
      "provenance": []
    },
    "kernelspec": {
      "name": "python3",
      "display_name": "Python 3"
    },
    "language_info": {
      "name": "python"
    }
  },
  "cells": [
    {
      "cell_type": "code",
      "execution_count": null,
      "metadata": {
        "id": "cG2EYc3CoU74"
      },
      "outputs": [],
      "source": [
        "video_path = '/content/ball.mp4'\n",
        "import cv2\n",
        "import numpy as np\n",
        "\n",
        "!pip install supervision\n",
        "import supervision as sv\n",
        "\n",
        "byte_tracker = sv.ByteTrack()\n",
        "cap = cv2.VideoCapture(video_path)\n",
        "\n",
        "# Define the codec and create VideoWriter object\n",
        "fourcc = cv2.VideoWriter_fourcc(*'MJPG')\n",
        "out = cv2.VideoWriter('output.mp4', fourcc, 30.0, (1280,  720))\n",
        "\n",
        "in_car = 0\n",
        "out_car = 0\n",
        "\n",
        "while cap.isOpened():\n",
        "\n",
        "    cap = cv2.VideoCapture(video_path)\n",
        "\n",
        "    # Read the first frame\n",
        "    ret, first_frame = cap.read()\n",
        "    if not ret:\n",
        "        print(\"Failed to load the video.\")\n",
        "        exit()\n",
        "\n",
        "    # Select the bounding box\n",
        "    detection = cv2.selectROI(first_frame)\n",
        "\n",
        "    # # convert to Detections\n",
        "    # detections = sv.Detections.from_ultralytics(results)\n",
        "    # # only consider class id from selected_classes define above\n",
        "    # detections = detections[np.isin(detections.class_id, selected_classes)]\n",
        "\n",
        "    detections = byte_tracker.update_with_detections(detection)\n",
        "    frame = box_anotator(frame, detections)\n",
        "\n",
        "\n",
        "    out.write(frame)\n",
        "\n",
        "# Release everything if job is finished\n",
        "cap.release()\n",
        "out.release()\n",
        "cv2.destroyAllWindows()"
      ]
    },
    {
      "cell_type": "code",
      "source": [],
      "metadata": {
        "id": "Np7HsZIwpGMc"
      },
      "execution_count": null,
      "outputs": []
    }
  ]
}